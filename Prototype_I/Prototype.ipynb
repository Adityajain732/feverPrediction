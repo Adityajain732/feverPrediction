{
 "cells": [
  {
   "cell_type": "code",
   "execution_count": null,
   "metadata": {},
   "outputs": [],
   "source": [
    "import pandas as pd\n",
    "import numpy as np\n",
    "import random as rnd\n",
    "import os\n",
    "# visualization\n",
    "import seaborn as sns\n",
    "import matplotlib.pyplot as plt\n",
    "import matplotlib\n",
    "\n",
    "%matplotlib inline\n",
    "\n",
    "# machine learning\n",
    "from sklearn.linear_model import LogisticRegression\n",
    "from sklearn.svm import SVC, LinearSVC\n",
    "from sklearn.ensemble import RandomForestClassifier\n",
    "from sklearn.neighbors import KNeighborsClassifier\n",
    "from sklearn.naive_bayes import GaussianNB\n",
    "from sklearn.linear_model import Perceptron\n",
    "from sklearn.linear_model import SGDClassifier\n",
    "from sklearn.tree import DecisionTreeClassifier\n",
    "from sklearn.model_selection import train_test_split\n",
    "from sklearn.metrics import classification_report\n",
    "from sklearn.metrics import f1_score\n",
    "\n",
    "\n",
    "import datetime"
   ]
  },
  {
   "cell_type": "code",
   "execution_count": null,
   "metadata": {},
   "outputs": [],
   "source": [
    "#train_df=pd.read_csv('vitalPeriodic.csv', chunksize=1000000)\n",
    "demo_df=pd.read_csv('vitalPeriodicDemo.csv')"
   ]
  },
  {
   "cell_type": "code",
   "execution_count": null,
   "metadata": {},
   "outputs": [],
   "source": [
    "demo_df = demo_df[['vitalperiodicid', 'patientunitstayid', 'observationoffset', 'temperature', 'sao2', 'heartrate', 'respiration', 'cvp', 'systemicdiastolic']]"
   ]
  },
  {
   "cell_type": "code",
   "execution_count": null,
   "metadata": {},
   "outputs": [],
   "source": [
    "demo_df[['vitalperiodicid','patientunitstayid', 'observationoffset']] = demo_df[['vitalperiodicid','patientunitstayid', 'observationoffset']].astype('int32')"
   ]
  },
  {
   "cell_type": "code",
   "execution_count": null,
   "metadata": {},
   "outputs": [],
   "source": [
    "demo_df[['temperature','sao2', 'heartrate', 'respiration','cvp', 'systemicdiastolic']] = demo_df[['temperature','sao2', 'heartrate', 'respiration','cvp', 'systemicdiastolic']].astype('float32')"
   ]
  },
  {
   "cell_type": "code",
   "execution_count": null,
   "metadata": {},
   "outputs": [],
   "source": [
    "demo_df['vitalperiodicid'] = demo_df['vitalperiodicid'].apply(lambda x: datetime.datetime.fromtimestamp(x))"
   ]
  },
  {
   "cell_type": "code",
   "execution_count": null,
   "metadata": {},
   "outputs": [],
   "source": [
    "temp = demo_df.dropna(subset=['temperature'])[['vitalperiodicid', 'patientunitstayid', 'observationoffset', 'temperature', 'sao2', 'heartrate', 'respiration', 'cvp', 'systemicdiastolic']]"
   ]
  },
  {
   "cell_type": "code",
   "execution_count": null,
   "metadata": {},
   "outputs": [],
   "source": [
    "demo_df = demo_df.drop(demo_df[[99 == Sum for Sum in sum([demo_df.patientunitstayid!=pid for pid in temp.patientunitstayid.unique()])]].index)"
   ]
  },
  {
   "cell_type": "code",
   "execution_count": null,
   "metadata": {},
   "outputs": [],
   "source": [
    "dt = {}\n",
    "colms = ['systemicdiastolic', 'sao2', 'heartrate', 'respiration', 'cvp']\n",
    "for pid in demo_df.patientunitstayid.unique():\n",
    "    for col in colms:\n",
    "        dt[(pid, col)] = demo_df[demo_df['patientunitstayid']==pid][col].median()\n"
   ]
  },
  {
   "cell_type": "code",
   "execution_count": null,
   "metadata": {},
   "outputs": [],
   "source": [
    "for pid in temp.patientunitstayid.unique():\n",
    "    for col in colms:\n",
    "        temp.loc[(temp.patientunitstayid==pid) & (temp[col].isnull()), col] = dt[(pid, col)]\n",
    "\n",
    "temp['systemicdiastolic'] = temp['systemicdiastolic'].fillna(demo_df['systemicdiastolic'].median())\n",
    "temp['sao2'] = temp['sao2'].fillna(demo_df['sao2'].median())\n",
    "temp['heartrate'] = temp['heartrate'].fillna(demo_df['heartrate'].median())\n",
    "temp['respiration'] = temp['respiration'].fillna(demo_df['respiration'].median())\n",
    "temp['cvp'] = temp['cvp'].fillna(demo_df['cvp'].median())"
   ]
  },
  {
   "cell_type": "code",
   "execution_count": null,
   "metadata": {},
   "outputs": [],
   "source": [
    "for pid in demo_df.patientunitstayid.unique():\n",
    "    for col in colms:\n",
    "        demo_df.loc[(demo_df.patientunitstayid==pid) & (demo_df[col].isnull()), col] = dt[(pid, col)]\n",
    "\n",
    "demo_df['systemicdiastolic'] = demo_df['systemicdiastolic'].fillna(demo_df['systemicdiastolic'].median())\n",
    "demo_df['sao2'] = demo_df['sao2'].fillna(demo_df['sao2'].median())\n",
    "demo_df['heartrate'] = demo_df['heartrate'].fillna(demo_df['heartrate'].median())\n",
    "demo_df['respiration'] = demo_df['respiration'].fillna(demo_df['respiration'].median())\n",
    "demo_df['cvp'] = demo_df['cvp'].fillna(demo_df['cvp'].median())"
   ]
  },
  {
   "cell_type": "code",
   "execution_count": null,
   "metadata": {},
   "outputs": [],
   "source": [
    "col_names =  demo_df.columns\n",
    "sorted_df  = pd.DataFrame(columns = col_names)\n",
    "for pid in demo_df.patientunitstayid.unique():\n",
    "    sorted_df = sorted_df.append(demo_df[demo_df.patientunitstayid==pid].sort_values(by='vitalperiodicid'))"
   ]
  },
  {
   "cell_type": "code",
   "execution_count": null,
   "metadata": {},
   "outputs": [],
   "source": [
    "col_names =  temp.columns\n",
    "df  = pd.DataFrame(columns = col_names)\n",
    "for pid in temp.patientunitstayid.unique():\n",
    "    df = df.append(temp[temp.patientunitstayid==pid].sort_values(by='vitalperiodicid'))"
   ]
  },
  {
   "cell_type": "code",
   "execution_count": null,
   "metadata": {
    "scrolled": true
   },
   "outputs": [],
   "source": [
    "sorted_df.head(10)"
   ]
  },
  {
   "cell_type": "code",
   "execution_count": null,
   "metadata": {},
   "outputs": [],
   "source": [
    "df.head()"
   ]
  },
  {
   "cell_type": "code",
   "execution_count": null,
   "metadata": {},
   "outputs": [],
   "source": [
    "sorted_df.info()"
   ]
  },
  {
   "cell_type": "code",
   "execution_count": null,
   "metadata": {},
   "outputs": [],
   "source": [
    "sorted_df.reset_index(drop=True, inplace=True)\n",
    "df.reset_index(drop=True, inplace=True)"
   ]
  },
  {
   "cell_type": "code",
   "execution_count": null,
   "metadata": {},
   "outputs": [],
   "source": [
    "def feature_fun(col, df):\n",
    "    df[col].diff()\n",
    "    df[col].fillna(0, inplace=True)\n",
    "    df[col] = df[col].apply(lambda x: x*x)\n",
    "    rms_diff = (sum(df[col])/len(df))**0.5\n",
    "    return df[col].std(), df[col].kurtosis(), df[col].skew(), df[col].mean(), df[col].min(), df[col].max(), rms_diff"
   ]
  },
  {
   "cell_type": "code",
   "execution_count": null,
   "metadata": {},
   "outputs": [],
   "source": [
    "df=pd.read_csv('df_processed.csv')\n",
    "\n",
    "#You can skip other two boxes as they lot of time, the processed df has already been created"
   ]
  },
  {
   "cell_type": "code",
   "execution_count": null,
   "metadata": {
    "scrolled": true
   },
   "outputs": [],
   "source": [
    "temperature_list = sorted_df[sorted_df['temperature'].notnull()].index.tolist()\n",
    "i=0\n",
    "prev_idx = 0\n",
    "pid = sorted_df.iloc[0]['patientunitstayid']\n",
    "prev_pid = sorted_df.iloc[0]['patientunitstayid']\n",
    "dct = {}\n",
    "\n",
    "for col in colm:\n",
    "    dct[col] = []\n",
    "\n",
    "for idx in temperature_list:   \n",
    "    pid = sorted_df.iloc[idx]['patientunitstayid']\n",
    "    if not pid==prev_pid:\n",
    "        prev_pid = sorted_df.iloc[idx]['patientunitstayid']\n",
    "        prev_idx = sorted_df.index[sorted_df['patientunitstayid'] == pid].tolist()[0]\n",
    "    while sorted_df.iloc[idx]['vitalperiodicid'] - sorted_df.iloc[prev_idx]['vitalperiodicid'] > datetime.timedelta(hours=6):\n",
    "        prev_idx+=1\n",
    "    for col in colm:\n",
    "        dct[col].append(feature_fun(col, sorted_df[prev_idx:idx+1]))\n",
    "    i+=1"
   ]
  },
  {
   "cell_type": "code",
   "execution_count": null,
   "metadata": {},
   "outputs": [],
   "source": [
    "colm = ['sao2', 'heartrate', 'respiration', 'cvp', 'systemicdiastolic']\n",
    "for col in colm:\n",
    "    df[col+'_std'] = pd.Series(np.array(dct[col])[:,0], index=df.index)\n",
    "    df[col+'_kurtosis'] = pd.Series(np.array(dct[col])[:,1], index=df.index)\n",
    "    df[col+'_skewness'] = pd.Series(np.array(dct[col])[:,2], index=df.index)\n",
    "    df[col+'_mean'] = pd.Series(np.array(dct[col])[:,3], index=df.index)\n",
    "    df[col+'_minimum'] = pd.Series(np.array(dct[col])[:,4], index=df.index)\n",
    "    df[col+'_maximum'] = pd.Series(np.array(dct[col])[:,5], index=df.index)\n",
    "    df[col+'_rms_diff'] = pd.Series(np.array(dct[col])[:,6], index=df.index)"
   ]
  },
  {
   "cell_type": "code",
   "execution_count": null,
   "metadata": {},
   "outputs": [],
   "source": [
    "df.head()"
   ]
  },
  {
   "cell_type": "code",
   "execution_count": null,
   "metadata": {},
   "outputs": [],
   "source": [
    "df.info()"
   ]
  },
  {
   "cell_type": "code",
   "execution_count": null,
   "metadata": {},
   "outputs": [],
   "source": [
    "# kurtosis need atleast 4 data point otherwise till will give nan value which is not usefull\n",
    "df = df.dropna()"
   ]
  },
  {
   "cell_type": "code",
   "execution_count": null,
   "metadata": {},
   "outputs": [],
   "source": [
    "df.drop(['patientunitstayid'],axis=1, inplace = True)\n",
    "df.drop(['vitalperiodicid'],axis=1, inplace = True)\n",
    "df.drop(['observationoffset'],axis=1,  inplace = True)"
   ]
  },
  {
   "cell_type": "code",
   "execution_count": null,
   "metadata": {},
   "outputs": [],
   "source": [
    "\n",
    "labels = df['temperature'].apply( lambda x: 1 if x>=38.0 else 0)\n",
    "train_df = df.drop(['temperature'],axis=1)\n"
   ]
  },
  {
   "cell_type": "code",
   "execution_count": null,
   "metadata": {},
   "outputs": [],
   "source": [
    "%matplotlib inline\n",
    "from sklearn.model_selection import train_test_split\n",
    "from sklearn.metrics import classification_report\n",
    "from sklearn.metrics import f1_score\n"
   ]
  },
  {
   "cell_type": "code",
   "execution_count": null,
   "metadata": {},
   "outputs": [],
   "source": [
    "temp, X_cv, label, y_cv = train_test_split(train_df, labels, test_size=0.1, random_state=42)\n",
    "\n",
    "clf = LogisticRegression(C=0.15)\n",
    "clf = clf.fit(temp, label)\n",
    "clf.score(X_cv, y_cv)\n",
    "print(classification_report(y_cv, clf.predict(X_cv)))\n",
    "print('F1 score:', f1_score(y_cv, clf.predict(X_cv)))"
   ]
  },
  {
   "cell_type": "code",
   "execution_count": null,
   "metadata": {},
   "outputs": [],
   "source": [
    "from sklearn.linear_model import LogisticRegression\n",
    "clf = LogisticRegression()\n",
    "from sklearn.model_selection import cross_val_score\n",
    "from sklearn.metrics import recall_score\n",
    "scores = cross_val_score(clf, train_df, labels,cv=5)\n",
    "print(scores)"
   ]
  },
  {
   "cell_type": "code",
   "execution_count": null,
   "metadata": {
    "scrolled": true
   },
   "outputs": [],
   "source": [
    "for pid in temp.patientunitstayid.unique():\n",
    "    dates = matplotlib.dates.date2num(temp[temp['patientunitstayid']==pid]['vitalperiodicid'][:])\n",
    "    plt.figure(figsize=(20,10))\n",
    "    plt.plot_date(dates, temp[temp['patientunitstayid']==pid]['temperature'][:])"
   ]
  },
  {
   "cell_type": "code",
   "execution_count": null,
   "metadata": {},
   "outputs": [],
   "source": []
  }
 ],
 "metadata": {
  "kernelspec": {
   "display_name": "Python 3",
   "language": "python",
   "name": "python3"
  },
  "language_info": {
   "codemirror_mode": {
    "name": "ipython",
    "version": 3
   },
   "file_extension": ".py",
   "mimetype": "text/x-python",
   "name": "python",
   "nbconvert_exporter": "python",
   "pygments_lexer": "ipython3",
   "version": "3.6.3"
  }
 },
 "nbformat": 4,
 "nbformat_minor": 2
}
